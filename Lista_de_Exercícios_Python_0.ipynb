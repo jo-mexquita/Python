{
  "nbformat": 4,
  "nbformat_minor": 0,
  "metadata": {
    "colab": {
      "provenance": [],
      "toc_visible": true,
      "authorship_tag": "ABX9TyPPjcXOazVsk8uDHlXWNAOa",
      "include_colab_link": true
    },
    "kernelspec": {
      "name": "python3",
      "display_name": "Python 3"
    },
    "language_info": {
      "name": "python"
    }
  },
  "cells": [
    {
      "cell_type": "markdown",
      "metadata": {
        "id": "view-in-github",
        "colab_type": "text"
      },
      "source": [
        "<a href=\"https://colab.research.google.com/github/jo-mexquita/Python/blob/main/Lista_de_Exerc%C3%ADcios_Python_0.ipynb\" target=\"_parent\"><img src=\"https://colab.research.google.com/assets/colab-badge.svg\" alt=\"Open In Colab\"/></a>"
      ]
    },
    {
      "cell_type": "markdown",
      "source": [
        "## Lista de Exercícios - Condicionais em Python\n",
        "Você deverá utilizar o que aprendeu nas aulas de condicionais para\n",
        "desenvolver os desafios a seguir:\n"
      ],
      "metadata": {
        "id": "-U1m2TBHh0Rr"
      }
    },
    {
      "cell_type": "markdown",
      "source": [
        "#Exercício 1\n",
        "1. Seu primeiro desafio é desenvolver um programa para um depósito de\n",
        "bebidas que valide venda de bebidas para maiores de idade (maior ou\n",
        "igual 18 anos) no mercado, o programa deve receber do usuário os\n",
        "valores do nome e ano que ele nasceu e retornar se ele pode comprar\n",
        "bebidas.\n",
        "\n"
      ],
      "metadata": {
        "id": "VwIVTQvkfKPl"
      }
    },
    {
      "cell_type": "code",
      "source": [
        "nome = input('Digite o seu nome: ')\n",
        "anoNascimento = int(input('Digite o ano em que você nasceu: '))\n",
        "\n",
        "if anoNascimento <= 2004:\n",
        "  print('{}, você é maior de idade e está autorizado a comprar bebidas'.format(nome))\n",
        "elif anoNascimento > 2004 and anoNascimento < 2022:\n",
        "  print('{}, você não é maior de idade, portanto não pode comprar bebidas'.format(nome))\n",
        "else:\n",
        "  print('Você não digitou um ano válido, tente novamente')"
      ],
      "metadata": {
        "id": "C_PHafQMgGab",
        "colab": {
          "base_uri": "https://localhost:8080/"
        },
        "outputId": "19f6d6e0-4a29-4e9b-c29d-f455c0d2b1c9"
      },
      "execution_count": null,
      "outputs": [
        {
          "output_type": "stream",
          "name": "stdout",
          "text": [
            "Digite o seu nome: Eustáquio\n",
            "Digite o ano em que você nasceu: 1817\n",
            "Eustáquio, você é maior de idade e está autorizado a comprar bebidas\n"
          ]
        }
      ]
    },
    {
      "cell_type": "markdown",
      "source": [
        "# Exercício 2\n",
        "2. Esse bimestre na faculdade você precisa tirar nota 8 de média para\n",
        "passar na matéria, desenvolva um script que leia a nota de suas\n",
        "últimas 3 provas, tire a média delas e verifique se você passou.\n"
      ],
      "metadata": {
        "id": "qbjgl_QEhDUl"
      }
    },
    {
      "cell_type": "code",
      "source": [
        "prova1 = float(input('Digite a nota da sua primeira prova: '))\n",
        "prova2 = float(input('Digite a nota da sua segundo prova: '))\n",
        "prova3 = float(input('Digite a nota da sua terceira prova: '))\n",
        "mediaFinal = (prova1+prova2+prova3) / 3\n",
        "\n",
        "if mediaFinal >= 8 and mediaFinal < 10:\n",
        "  print('Sua media final foi {:.2f}. Você está aprovado.'.format(mediaFinal))\n",
        "elif mediaFinal < 8:\n",
        "  print('Sua media final foi {:.2f}. Você está reprovado.'.format(mediaFinal))\n",
        "else:\n",
        "  print('Você não digitou notas válidas, tente novamente')"
      ],
      "metadata": {
        "id": "ow3YXtDfhG5T",
        "colab": {
          "base_uri": "https://localhost:8080/"
        },
        "outputId": "853e6b49-4b45-4833-b4cb-4101fbfb37e1"
      },
      "execution_count": null,
      "outputs": [
        {
          "output_type": "stream",
          "name": "stdout",
          "text": [
            "Digite a nota da sua primeira prova: 16\n",
            "Digite a nota da sua segundo prova: 23\n",
            "Digite a nota da sua terceira prova: 36\n",
            "Você não digitou notas válidas, tente novamente\n"
          ]
        }
      ]
    },
    {
      "cell_type": "markdown",
      "source": [
        "#Exercício 3\n",
        "3. A fisioterapeuta que você vai gosta muito de brincar com números, e\n",
        "pediu para você criar um sistema que verifique se a altura inserida é\n",
        "par ou impar.\n",
        "\n"
      ],
      "metadata": {
        "id": "CR8xS_jChIAK"
      }
    },
    {
      "cell_type": "code",
      "source": [
        "altura = float(input('Digite a sua altura: '))\n",
        "media = altura * 100 % 2\n",
        "\n",
        "if media == 0:\n",
        "  print('Você tem {:.2f}m de altura e sua altura é par'.format(altura))\n",
        "else:\n",
        "  print('Você tem {:.2f}m de altura e sua altura é ímpar'.format(altura))"
      ],
      "metadata": {
        "id": "xj_6wX-fhJsa",
        "colab": {
          "base_uri": "https://localhost:8080/"
        },
        "outputId": "9973b1a0-26c9-4012-afa2-1c0faec33e72"
      },
      "execution_count": 2,
      "outputs": [
        {
          "output_type": "stream",
          "name": "stdout",
          "text": [
            "Digite a sua altura: 1.73\n",
            "Você tem 1.73m de altura e sua altura é ímpar\n"
          ]
        }
      ]
    },
    {
      "cell_type": "markdown",
      "source": [
        "#Exercício 4\n",
        "4. Faça um script que você coloque a quantidade de dias e descubra em\n",
        "qual trimestre esse dia está no ano.\n"
      ],
      "metadata": {
        "id": "nYd4kQhRhKz6"
      }
    },
    {
      "cell_type": "code",
      "source": [
        "diasQtd = int(input('Quantos dias do ano já se passaram? '))\n",
        "trimestre_1 = 90\n",
        "trimestre_2 = 181\n",
        "trimestre_3 = 273\n",
        "trimestre_4 = 365\n",
        "\n",
        "if diasQtd <= trimestre_1:\n",
        "  print('Se passaram {} dias este ano, e você está no primeiro trimestre.'.format(diasQtd))\n",
        "elif diasQtd > trimestre_1 and diasQtd < trimestre_2:\n",
        "  print('Se passaram {} dias este ano, e você está no segundo trimestre.'.format(diasQtd))\n",
        "elif diasQtd > trimestre_2 and diasQtd < trimestre_3:\n",
        "  print('Se passaram {} dias este ano, e você está no terceiro trimestre.'.format(diasQtd))\n",
        "elif diasQtd > trimestre_3 and diasQtd < trimestre_4:\n",
        "  print('Se passaram {} dias este ano, e você está no quarto trimestre.'.format(diasQtd))\n",
        "else:\n",
        "  print('Você não digitou uma quantidade de dias válido, tente novamente.')"
      ],
      "metadata": {
        "id": "HAQABsvdhMg7",
        "colab": {
          "base_uri": "https://localhost:8080/"
        },
        "outputId": "c3b24968-0ae7-46d2-867c-acf3e7dd5ff2"
      },
      "execution_count": 5,
      "outputs": [
        {
          "output_type": "stream",
          "name": "stdout",
          "text": [
            "Quantos dias do ano já se passaram? 366\n",
            "Você não digitou uma quantidade de dias válido, tente novamente.\n"
          ]
        }
      ]
    },
    {
      "cell_type": "markdown",
      "source": [
        "#Exercício 5\n",
        "5. Desenvolva um sistema que leia 3 números e diga qual é o maior (se\n",
        "houver empate, exiba os empatados)."
      ],
      "metadata": {
        "id": "bYHY7em1hNBb"
      }
    },
    {
      "cell_type": "code",
      "source": [
        "num1 = float(input('Digite o primeiro número a ser comparado: '))\n",
        "num2 = float(input('Digite o segundo número a ser comparado: '))\n",
        "num3 = float(input('Digite o terceiro número a ser comparado: '))\n",
        "\n",
        "if num1 > num2 and num1 > num3:\n",
        "  print('Neste caso, {:.1f} é maior que {} e {}.'.format(num1,num2,num3))\n",
        "elif num2 > num1 and num2 > num3:\n",
        "  print('Neste caso, {:.1f} é maior que {} e {}.'.format(num2,num1,num3))\n",
        "elif num3 > num1 and num3 > num2:\n",
        "  print('Neste caso, {:.1f} é maior que {} e {}.'.format(num3,num1,num2))\n",
        "elif num1 == num2 and num1 > num3:\n",
        "  print('Neste caso, há um empate entre {} e {}, que são maiores que {}.'.format(num1,num2,num3))\n",
        "elif num2 == num3 and num2 > num1:\n",
        "  print('Neste caso, há um empate entre {} e {}, que são maiores que {}.'.format(num2,num3,num1))\n",
        "elif num1 == num3 and num1 > num2:\n",
        "  print('Neste caso, há um empate entre {} e {}, que são maiores que {}.'.format(num1,num3,num2))\n",
        "else:\n",
        "  print('Você não digitou valores válidos, tente novamente.')\n",
        "\n",
        "print('Fim da comparação.')"
      ],
      "metadata": {
        "id": "fLP_jkTjhNs6",
        "colab": {
          "base_uri": "https://localhost:8080/"
        },
        "outputId": "5b9a07db-afbc-4e56-b12e-88c2f1b3fcb9"
      },
      "execution_count": 9,
      "outputs": [
        {
          "output_type": "stream",
          "name": "stdout",
          "text": [
            "Digite o primeiro número a ser comparado: 3.4\n",
            "Digite o segundo número a ser comparado: 3.5\n",
            "Digite o terceiro número a ser comparado: 3.4\n",
            "Neste caso, 3.5 é maior que 3.4 e 3.4.\n",
            "Fim da comparação.\n"
          ]
        }
      ]
    }
  ]
}